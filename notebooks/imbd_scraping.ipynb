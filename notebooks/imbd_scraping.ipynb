{
 "cells": [
  {
   "cell_type": "markdown",
   "metadata": {},
   "source": [
    "In diesem kleinen Notebook werden wir anhand der Seite https://imdb.com die Qualität unserer Lieblingsserie im Laufe mehrere Staffeln untersuchen. Dazu werden wir\n",
    "\n",
    "- Die IMDB ID unserer Lieblingsserie ermitteln\n",
    "- Anhand der IMDB ID nach der Serie untersuchen, wie viele Staffeln der Serie es gibt.\n",
    "- Anhand der IMDB ID für eine Staffel die Durchschnittsbewertung und Anzahl der insgesamt abgegebenen Bewertungen je Episode auslesen.\n",
    "\n"
   ]
  },
  {
   "cell_type": "code",
   "execution_count": 1,
   "metadata": {},
   "outputs": [],
   "source": [
    "#!/usr/bin/env python3\n",
    "\n",
    "import re\n",
    "from bs4 import BeautifulSoup\n",
    "from requests import get\n",
    "import matplotlib.pyplot as plt\n",
    "import numpy as np\n",
    "\n",
    "\n",
    "def extract_imdb_id(s: str) -> str:\n",
    "    \"\"\" Extrahiert aus einem einem str 'title/tt121345/bla' \n",
    "        die IMDB id tt12345 und gibt diese zurück. \"\"\"\n",
    "    return re.search(\"/title/(.*)/\", s).group(1)\n",
    "\n",
    "\n",
    "def extract_num_seasons(s: str) -> int:\n",
    "    \"\"\" Extrahiert aus einem String, der mit einer Zahl beginnt, \n",
    "        diese Zahl und gibt diese als int zurück.\"\"\"\n",
    "    return int(re.search(r\"^\\d*\", s).group(0))\n",
    "\n",
    "\n",
    "def extract_num_votes(s: str) -> int:\n",
    "    \"\"\" Extrahiert aus einem String '(1234,2345)' die Zahl und \n",
    "        gibt diese Zurück (achtung: anglistisch Format) \"\"\"\n",
    "    return int(re.search(\"[0-9]+,*[0-9]+\", s).group(0).replace(\",\", \"\"))"
   ]
  },
  {
   "cell_type": "markdown",
   "metadata": {},
   "source": [
    "**2. Schreibe eine Funktion `scrape_imdb_id(name: str) -> str`, welche den Seriennamen als Argument besitzt und die IMDB ID\n",
    "als String zurückgibt.**\n",
    "\n",
    "- Hinweis1: Der Einfachheithalber kannst du davon ausgehen, dass deine Lieblingsserie als oberstes Suchergebnis angezeigt wird. \n",
    "- Hinweis2: Jede Serie ist mit *(TV Series)* gekennzeichnet und kann daher klar von Filmen unterschieden werden."
   ]
  },
  {
   "cell_type": "code",
   "execution_count": 16,
   "metadata": {},
   "outputs": [],
   "source": [
    "def scrape_imdb_id(name: str) -> str:\n",
    "    nameplus = name.lower().replace(\" \", \"+\")\n",
    "    search_url = f\"https://www.imdb.com/find?q={nameplus}\"\n",
    "    html_code = get(search_url).content\n",
    "    soup = BeautifulSoup(html_code)\n",
    "    imdb_id_str = soup.find(\"tr\", class_=\"findResult odd\").a[\"href\"]\n",
    "    return extract_imdb_id(imdb_id_str)"
   ]
  },
  {
   "cell_type": "code",
   "execution_count": 18,
   "metadata": {},
   "outputs": [],
   "source": [
    "imdb_id = scrape_imdb_id(\"Game of Thrones\")"
   ]
  },
  {
   "cell_type": "markdown",
   "metadata": {},
   "source": [
    "**3. Analysiere, wie man die Anzahl der Staffeln deiner Serie *scrapen* könnte und implementiere eine Funktion `scrape_num_seasons(imdb_id: str) -> int`, welche die IMDB ID als Argument erwartet und die Anzahl der Staffeln als zurückgibt.**"
   ]
  },
  {
   "cell_type": "code",
   "execution_count": 20,
   "metadata": {},
   "outputs": [],
   "source": [
    "def scrape_num_seasons(imdb_id: str) -> int:\n",
    "    url = f\"https://www.imdb.com/title/{imdb_id}/?ref_=fn_al_tt_1\"\n",
    "    soup = BeautifulSoup(get(url).content)\n",
    "    select_tag = soup.find(\"select\", id=\"browse-episodes-season\")\n",
    "    return extract_num_seasons(select_tag[\"aria-label\"])"
   ]
  },
  {
   "cell_type": "code",
   "execution_count": 22,
   "metadata": {},
   "outputs": [
    {
     "data": {
      "text/plain": [
       "8"
      ]
     },
     "execution_count": 22,
     "metadata": {},
     "output_type": "execute_result"
    }
   ],
   "source": [
    "scrape_num_seasons(imdb_id)"
   ]
  },
  {
   "cell_type": "markdown",
   "metadata": {},
   "source": [
    "**4.Analysiere, wie man die Durchschnittsbewertung jeder einzelnen Episode einer Staffel und die Anzahl der abgegebenen Bewertungen *parsen* könnte. Implementiere anschließend eine Funktion `scrape_ratings(imdb_id: str, season: int) -> Tuple[List[float], List[int]]`, welche für die Staffel `season` die Durchschnittsbewertungen aller Folgen und die jeweilige Anzahl der abgegeben Bewertungen jeweils als Liste zurückgibt.**"
   ]
  },
  {
   "cell_type": "code",
   "execution_count": 25,
   "metadata": {},
   "outputs": [],
   "source": [
    "from typing import Tuple, List\n",
    "\n",
    "def scrape_ratings(imdb_id: str, season: int) -> Tuple[List[float], List[int]]:\n",
    "    url = f\"https://www.imdb.com/title/{imdb_id}/episodes?season={season}&ref_=tt_eps_sn_1\"\n",
    "    soup = BeautifulSoup(get(url).content)\n",
    "    div_tags = soup.find_all(\"div\", class_=\"ipl-rating-star small\")\n",
    "    ratings, total_votes = [], []\n",
    "    for div in div_tags:\n",
    "        rating = float(div.find(\"span\", class_=\"ipl-rating-star__rating\").text)\n",
    "        votes = extract_num_votes(div.find(\"span\", class_=\"ipl-rating-star__total-votes\").text)\n",
    "        ratings.append(rating)\n",
    "        total_votes.append(votes)\n",
    "    return ratings, total_votes"
   ]
  },
  {
   "cell_type": "code",
   "execution_count": 26,
   "metadata": {},
   "outputs": [
    {
     "data": {
      "text/plain": [
       "([9.1, 8.8, 8.7, 8.8, 9.1, 9.2, 9.2, 9.0, 9.6, 9.5],\n",
       " [44550, 33910, 32113, 30538, 31753, 31412, 31936, 29879, 41683, 36731])"
      ]
     },
     "execution_count": 26,
     "metadata": {},
     "output_type": "execute_result"
    }
   ],
   "source": [
    "scrape_ratings(imdb_id, 1)"
   ]
  },
  {
   "cell_type": "markdown",
   "metadata": {},
   "source": [
    "**5. Probiere deine implementierten Funktionen aus, indem du dir die Bewertungen deiner Lieblingsserie plottest**"
   ]
  },
  {
   "cell_type": "code",
   "execution_count": 27,
   "metadata": {},
   "outputs": [],
   "source": [
    "def plot_ratings(serienname: str, regress_all=False) -> None:\n",
    "    imdb_id = scrape_imdb_id(serienname)\n",
    "    num_seasons = scrape_num_seasons(imdb_id)\n",
    "    # Für den Plot\n",
    "    plt.title(serienname)\n",
    "    plt.xlabel(\"Episode\")\n",
    "    plt.ylabel(\"Rating\")\n",
    "    k = 0\n",
    "    all_ratings = []\n",
    "    for season in range(1, num_seasons + 1):\n",
    "        ratings, num_votes = scrape_ratings(imdb_id, season)\n",
    "        episodes = np.arange(len(ratings)) + k\n",
    "        k += len(ratings)\n",
    "        p = plt.plot(episodes, ratings, \".\", label=f\"Staffel {season}\")\n",
    "        # Koeffizienten der Regressionsgerade\n",
    "        coefs = np.polyfit(episodes, ratings, 1)\n",
    "        plt.plot(episodes, np.poly1d(coefs)(episodes), color=p[0].get_color())\n",
    "        if regress_all:\n",
    "            all_ratings += ratings\n",
    "    # Regression über alle Staffeln\n",
    "    if regress_all:\n",
    "        all_episodes = np.arange(len(all_ratings))\n",
    "        coefs = np.polyfit(all_episodes, all_ratings, 1)\n",
    "        plt.plot(all_episodes, np.poly1d(coefs)(all_episodes), \"--\", label=\"Alle Staffeln\")\n",
    "    plt.legend()\n",
    "    plt.show()"
   ]
  },
  {
   "cell_type": "code",
   "execution_count": 29,
   "metadata": {},
   "outputs": [
    {
     "data": {
      "image/png": "[encoded data removed]",
      "text/plain": [
       "<Figure size 432x288 with 1 Axes>"
      ]
     },
     "metadata": {
      "needs_background": "light"
     },
     "output_type": "display_data"
    }
   ],
   "source": [
    "plot_ratings(\"Breaking Bad\", regress_all=True)"
   ]
  },
  {
   "cell_type": "code",
   "execution_count": null,
   "metadata": {},
   "outputs": [],
   "source": []
  }
 ],
 "metadata": {
  "kernelspec": {
   "display_name": "Python 3",
   "language": "python",
   "name": "python3"
  },
  "language_info": {
   "codemirror_mode": {
    "name": "ipython",
    "version": 3
   },
   "file_extension": ".py",
   "mimetype": "text/x-python",
   "name": "python",
   "nbconvert_exporter": "python",
   "pygments_lexer": "ipython3",
   "version": "3.8.11"
  }
 },
 "nbformat": 4,
 "nbformat_minor": 4
}
