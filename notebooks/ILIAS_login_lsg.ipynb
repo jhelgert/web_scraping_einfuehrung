{
 "cells": [
  {
   "cell_type": "code",
   "execution_count": null,
   "metadata": {},
   "outputs": [],
   "source": [
    "import requests\n",
    "from bs4 import BeautifulSoup"
   ]
  },
  {
   "cell_type": "markdown",
   "metadata": {},
   "source": [
    "**1. Analysierie in Chromes Entwicklertools den ILIAS-Login über das [CAS](https://cas.uni-mannheim.de/cas/login). Welche Daten werden gesendet für einen Login?**"
   ]
  },
  {
   "cell_type": "markdown",
   "metadata": {},
   "source": [
    "**2. Implementiere die Funktion `ILIAS_login(uniid: str, password: str) -> request.session`, welche dich mit deiner Unikennung und deinem Passwort auf Ilias einloggt. Die Funktion gibt ein entsprechendes Sessionobjekt zurück, mit welchem man dann Zugriff auf Ilias hat.**"
   ]
  },
  {
   "cell_type": "code",
   "execution_count": null,
   "metadata": {},
   "outputs": [],
   "source": [
    "def ILIAS_login(username: str, password: str) -> requests.session:\n",
    "    login_url = \"https://cas.uni-mannheim.de/cas/login\"\n",
    "    headers = {\n",
    "        'Connection': 'keep-alive',\n",
    "        'User-Agent': \"Mozilla/5.0 (Macintosh; Intel Mac OS X 10_12_3) AppleWebKit/537.36 (KHTML, like Gecko) Chrome/56.0.2924.87 Safari/537.36\",   \n",
    "    }\n",
    "    # Unser Sessionobjekt, in dem auch alle unsere Cookies gespeichert werden und wir \"eingeloggt\" bleiben.\n",
    "    sess = requests.session()\n",
    "    # Rufe die Loginseite auf\n",
    "    soup = BeautifulSoup(session.get(login_url).text, \"lxml\")\n",
    "    # Parse die Login HTML-Form und alle Daten, die abgeschickt werden beim Login\n",
    "    form_inputs = soup.find_all(lambda tag: tag.name == \"input\" and tag.has_attr(\"name\"))\n",
    "    form_data = {i[\"name\"] : i[\"value\"] if i.has_attr(\"value\") else '' for i in form_inputs}\n",
    "    form_data[\"username\"] = username\n",
    "    form_data[\"password\"] = password    \n",
    "    # 'Fülle' die HTML-Form aus und POSTe die Daten\n",
    "    sess.post(login_url, data=form_data, headers=headers)\n",
    "    # gib das Sessionobjekt zurück, mit dem wir jetzt eingeloggt sind.\n",
    "    return sess"
   ]
  },
  {
   "cell_type": "markdown",
   "metadata": {},
   "source": [
    "**3. Analysiere die Iliashauptseite. Überlege dir, was du nun Innerhalb von ILIAS *scrapen* möchtest und schreibe dir eine entsprechende Funktion 🤓**"
   ]
  },
  {
   "cell_type": "code",
   "execution_count": null,
   "metadata": {},
   "outputs": [],
   "source": [
    "\n",
    "def deine_funktion(sess: requests.session):\n",
    "    # Iliashauptseite\n",
    "    base_url = \"https://ilias.uni-mannheim.de/ilias.php?baseClass=ilPersonalDesktopGUI&cmd=jumpToSelectedItems\"\n",
    "    soup = BeautifulSoup(sess.get(base_url).text, \"lxml\")\n",
    "    # TO DO ...\n",
    "    \n",
    "    # Wichtig, sobald fertig:\n",
    "    sess.close()"
   ]
  }
 ],
 "metadata": {
  "kernelspec": {
   "display_name": "Python 3",
   "language": "python",
   "name": "python3"
  },
  "language_info": {
   "codemirror_mode": {
    "name": "ipython",
    "version": 3
   },
   "file_extension": ".py",
   "mimetype": "text/x-python",
   "name": "python",
   "nbconvert_exporter": "python",
   "pygments_lexer": "ipython3",
   "version": "3.8.10"
  }
 },
 "nbformat": 4,
 "nbformat_minor": 4
}
