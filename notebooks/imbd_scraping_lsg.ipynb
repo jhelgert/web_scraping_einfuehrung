{
 "cells": [
  {
   "cell_type": "code",
   "execution_count": 1,
   "metadata": {},
   "outputs": [],
   "source": [
    "#!/usr/bin/env python3\n",
    "\n",
    "import re\n",
    "from bs4 import BeautifulSoup\n",
    "from requests import get\n",
    "import matplotlib.pyplot as plt\n",
    "import numpy as np\n",
    "\n",
    "\n",
    "def extract_imdb_id(s: str) -> str:\n",
    "    \"\"\" Extrahiert aus einem 'title/tt121345/bla' string die \n",
    "        IMDB id tt12345 und gibt diese zurück. \"\"\"\n",
    "    return re.search(\"/title/(.*)/\", s).group(1)\n",
    "\n",
    "\n",
    "def extract_num_seasons(s: str) -> int:\n",
    "    \"\"\" Extrahiert aus einem String, der mit einer Zahl beginnt, \n",
    "        diese Zahl und gibt diese als int zurück.\"\"\"\n",
    "    return int(re.search(r\"^\\d*\", s).group(0))\n",
    "\n",
    "\n",
    "def extract_num_votes(s: str) -> int:\n",
    "    \"\"\" Extrahiert aus einem String '(1234,2345)' die Zahl und gibt \n",
    "        diese Zurück (achtung: anglistisches Format) \"\"\"\n",
    "    return int(re.search(\"[0-9]+,*[0-9]+\", s).group(0).replace(\",\", \"\"))"
   ]
  },
  {
   "cell_type": "markdown",
   "metadata": {},
   "source": [
    "**1. Besuche https://imdb.com, suche nach deiner Lieblingsserie und analysiere mittels Chrome den Suchvorgang, wie man die *IMDB ID* deiner Lieblingsserie *parsen* könnte.**"
   ]
  },
  {
   "cell_type": "markdown",
   "metadata": {},
   "source": [
    "**2. Schreibe eine Funktion `scrape_imdb_id(name: str) -> str`, welche den Seriennamen als Argument besitzt und die IMDB ID\n",
    "als String zurückgibt.**"
   ]
  },
  {
   "cell_type": "code",
   "execution_count": 2,
   "metadata": {},
   "outputs": [],
   "source": [
    "def scrape_imdb_id(name: str) -> str:\n",
    "    # 1. Leerzeichen muessen durch \"+\" ersetzt werden:\n",
    "    search_url = f\"https://www.imdb.com/find?q=\" + \\\n",
    "        name.replace(\" \", \"+\") + \"&ref_=nv_sr_sm\"\n",
    "    # 2. MainSoup der Suche\n",
    "    soup = BeautifulSoup(get(search_url).text, \"lxml\")\n",
    "    # 3. Finde den 'href'-Wert des ersten Suchergebnisses\n",
    "    href = soup.find(\"td\", class_=\"result_text\").a[\"href\"]\n",
    "    # 4. Extrahiere die IMDB ID aus dem href-string\n",
    "    imdb_id = extract_imdb_id(href)\n",
    "    return imdb_id\n"
   ]
  },
  {
   "cell_type": "markdown",
   "metadata": {},
   "source": [
    "**3. Analysiere, wie man die Anzahl der Staffeln deiner Serie *scrapen* könnte und implementiere eine Funktion `scrape_num_seasons(imdb_id: str) -> int`, welche die IMDB ID als Argument erwartet und die Anzahl der Staffeln als zurückgibt.**"
   ]
  },
  {
   "cell_type": "code",
   "execution_count": 3,
   "metadata": {},
   "outputs": [],
   "source": [
    "def scrape_num_seasons(imdb_id: str) -> int:\n",
    "    search_url = f\"https://www.imdb.com/title/{imdb_id}/?ref_=fn_al_tt_1\"\n",
    "    soup = BeautifulSoup(get(search_url).text, \"lxml\")\n",
    "    return extract_num_seasons(soup.find(id=\"browse-episodes-season\")[\"aria-label\"])\n"
   ]
  },
  {
   "cell_type": "markdown",
   "metadata": {},
   "source": [
    "**4.Analysiere, wie man die Durchschnittsbewertung jeder einzelnen Episode einer Staffel und die Anzahl der abgegebenen Bewertungen *parsen* könnte. Implementiere anschließend eine Funktion `scrape_ratings(imdb_id: str, season: int) -> Tuple[List[float], List[int]]`, welche für die Staffel `season` die Durchschnittsbewertungen aller Folgen und die jeweilige Anzahl der abgegeben Bewertungen jeweils als Liste zurückgibt.**"
   ]
  },
  {
   "cell_type": "code",
   "execution_count": 4,
   "metadata": {},
   "outputs": [],
   "source": [
    "from typing import Tuple, List\n",
    "\n",
    "def scrape_ratings(imdb_id: str, season: int) -> Tuple[List[float], List[int]]:\n",
    "    search_url = f\"https://www.imdb.com/title/{imdb_id}/episodes?season={season}\"\n",
    "    soup = BeautifulSoup(get(search_url).text, \"lxml\")\n",
    "    spans = soup.find_all(\"div\", class_=\"ipl-rating-star small\")\n",
    "    ratings, num_votes = [], []\n",
    "    for span in spans:\n",
    "        ratings += [float(span.find(class_=\"ipl-rating-star__rating\").text)]\n",
    "        num_votes += [extract_num_votes(span.find(class_=\"ipl-rating-star__total-votes\").text)]\n",
    "    return ratings, num_votes"
   ]
  },
  {
   "cell_type": "markdown",
   "metadata": {},
   "source": [
    "**5. Probiere deine implementierten Funktionen aus, indem du dir die Bewertungen deiner Lieblingsserie plottest**"
   ]
  },
  {
   "cell_type": "code",
   "execution_count": 5,
   "metadata": {},
   "outputs": [],
   "source": [
    "def plot_ratings(serienname: str, regress_all=False) -> None:\n",
    "    imdb_id = scrape_imdb_id(serienname)\n",
    "    num_seasons = scrape_num_seasons(imdb_id)\n",
    "    # Für den Plot\n",
    "    plt.title(serienname)\n",
    "    plt.xlabel(\"Episode\")\n",
    "    plt.ylabel(\"Rating\")\n",
    "    k = 0\n",
    "    all_ratings = []\n",
    "    for season in range(1, num_seasons + 1):\n",
    "        ratings, num_votes = scrape_ratings(imdb_id, season)\n",
    "        episodes = np.arange(len(ratings)) + k\n",
    "        k += len(ratings)\n",
    "        p = plt.plot(episodes, ratings, \".\", label=f\"Staffel {season}\")\n",
    "        # Koeffizienten der Regressionsgerade\n",
    "        coefs = np.polyfit(episodes, ratings, 1)\n",
    "        plt.plot(episodes, np.poly1d(coefs)(episodes), color=p[0].get_color())\n",
    "        if regress_all:\n",
    "            all_ratings += ratings\n",
    "    # Regression über alle Staffeln\n",
    "    if regress_all:\n",
    "        all_episodes = np.arange(len(all_ratings))\n",
    "        coefs = np.polyfit(all_episodes, all_ratings, 1)\n",
    "        plt.plot(all_episodes, np.poly1d(coefs)(all_episodes), \"--\", label=\"Alle Staffeln\")\n",
    "    plt.legend()\n",
    "    plt.show()"
   ]
  },
  {
   "cell_type": "code",
   "execution_count": 7,
   "metadata": {},
   "outputs": [
    {
     "data": {
      "image/png": "[encoded data removed]",
      "text/plain": [
       "<Figure size 432x288 with 1 Axes>"
      ]
     },
     "metadata": {
      "needs_background": "light"
     },
     "output_type": "display_data"
    }
   ],
   "source": [
    "plot_ratings(\"Game of Thrones\", regress_all=True)\n"
   ]
  },
  {
   "cell_type": "code",
   "execution_count": null,
   "metadata": {},
   "outputs": [],
   "source": []
  }
 ],
 "metadata": {
  "interpreter": {
   "hash": "aee8b7b246df8f9039afb4144a1f6fd8d2ca17a180786b69acc140d282b71a49"
  },
  "kernelspec": {
   "display_name": "Python 3",
   "language": "python",
   "name": "python3"
  },
  "language_info": {
   "codemirror_mode": {
    "name": "ipython",
    "version": 3
   },
   "file_extension": ".py",
   "mimetype": "text/x-python",
   "name": "python",
   "nbconvert_exporter": "python",
   "pygments_lexer": "ipython3",
   "version": "3.8.12"
  }
 },
 "nbformat": 4,
 "nbformat_minor": 4
}
