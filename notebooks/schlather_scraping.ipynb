{
 "cells": [
  {
   "cell_type": "code",
   "execution_count": 4,
   "metadata": {},
   "outputs": [],
   "source": [
    "from bs4 import BeautifulSoup\n",
    "import requests\n",
    "from requests import session, get\n",
    "from urllib.parse import urljoin\n",
    "import shutil\n",
    "import re\n",
    "import pathlib\n",
    "from typing import Dict, List\n"
   ]
  },
  {
   "cell_type": "markdown",
   "metadata": {},
   "source": [
    "Wir wollen alle `*.pdf` Dateien [dieser Seite](https://www.wim.uni-mannheim.de/schlather/teaching/aktuelle-semester/) finden und automatisiert herunterladen. Dazu bauen\n",
    "wir uns eine Klasse `Scraper`.\n",
    "\n",
    "1. Verschaffe dir mittels Chromes Entwicklertools einen Überblick über die Loginform. Welche Daten werden alles benötigt und abgesendet?\n",
    "2. Implementiere die Methode `_materialien_login() -> None`, welche sich mittels einer `requests.session` auf der Seite einloggt und alle Cookies speichert. Die Session soll im Klassenattribut `_session` gespeichert werden. Achtung: Es gibt zwei HTML-Forms auf der Seite.\n",
    "3. Implementiere die Methode `_scrape_pdfs() -> None`, welche für jede Vorlesung auf der Materialienseite die Links zu den pdf-Dateien findet. Die Methode speichert alle Links pro Vorlesung in `self.daten`. Hinweis: Verwende `.replace(\"\\xad\", \"\")` um HTML entities aus dem Vorlesungsnamen zu entfernen.\n",
    "4. Teste den Code und lade alle Dateien herunter :)"
   ]
  },
  {
   "cell_type": "code",
   "execution_count": 5,
   "metadata": {},
   "outputs": [],
   "source": [
    "class Scraper:\n",
    "    def __init__(self):\n",
    "        self._session: requests.session = None\n",
    "        self.daten: Dict[str, List[str]] = {}\n",
    "    \n",
    "    def __del__(self):\n",
    "        if self._session is not None:\n",
    "            self._session.close()\n",
    "\n",
    "    def _materialien_login(self) -> None:\n",
    "        login_url = (\"https://www.wim.uni-mannheim.de\"\n",
    "                     \"/schlather/teaching/aktuelle-semester/\")\n",
    "        soup = BeautifulSoup(get(login_url).text, \"lxml\")\n",
    "        # TODO:\n",
    "\n",
    "    def _scrape_pdfs(self):\n",
    "        base_url = (\"https://www.wim.uni-mannheim.de\"\n",
    "                    \"/schlather/teaching/aktuelle-semester/materialien/\")\n",
    "        # TODO:\n",
    "\n",
    "    def _download_file(self, url: str, pfad: pathlib.Path, filename: str) -> None:\n",
    "        req = self._session.get(url, stream=True)\n",
    "        if req.status_code == 200:\n",
    "            with open(pfad / filename, \"wb\") as f:\n",
    "                shutil.copyfileobj(req.raw, f)\n",
    "\n",
    "    def download_all_files(self, verbose=False):\n",
    "        self._materialien_login()\n",
    "        self._scrape_pdfs()\n",
    "\n",
    "        for vl_name, links in self.daten.items():\n",
    "            # Erstelle Ordner für VL, falls dieser noch nicht existiert\n",
    "            p = pathlib.Path().cwd() / vl_name.replace(\":\", \"\")\n",
    "            if not p.exists():\n",
    "                p.mkdir()\n",
    "            for link in links:\n",
    "                dateiname = link.split(\"/\")[-1]\n",
    "                if verbose:\n",
    "                    print(f\"Lade [{vl_name}]: {dateiname}...\")\n",
    "                self._download_file(link, p, dateiname)\n"
   ]
  },
  {
   "cell_type": "code",
   "execution_count": null,
   "metadata": {},
   "outputs": [],
   "source": []
  }
 ],
 "metadata": {
  "interpreter": {
   "hash": "aee8b7b246df8f9039afb4144a1f6fd8d2ca17a180786b69acc140d282b71a49"
  },
  "kernelspec": {
   "display_name": "Python 3.9.7 64-bit",
   "name": "python3"
  },
  "language_info": {
   "codemirror_mode": {
    "name": "ipython",
    "version": 3
   },
   "file_extension": ".py",
   "mimetype": "text/x-python",
   "name": "python",
   "nbconvert_exporter": "python",
   "pygments_lexer": "ipython3",
   "version": "3.9.7"
  },
  "orig_nbformat": 4
 },
 "nbformat": 4,
 "nbformat_minor": 2
}
