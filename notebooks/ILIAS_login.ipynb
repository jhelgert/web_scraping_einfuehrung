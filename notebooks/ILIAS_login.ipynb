{
 "cells": [
  {
   "cell_type": "code",
   "execution_count": null,
   "metadata": {},
   "outputs": [],
   "source": [
    "import requests\n",
    "from bs4 import BeautifulSoup"
   ]
  },
  {
   "cell_type": "markdown",
   "metadata": {},
   "source": [
    "**1. Analysierie in Chromes Entwicklertools den ILIAS-Login über das [CAS](https://cas.uni-mannheim.de/cas/login). Welche Daten werden gesendet für einen Login?**"
   ]
  },
  {
   "cell_type": "markdown",
   "metadata": {},
   "source": [
    "**2. Implementiere die Funktion `ILIAS_login(uniid: str, password: str) -> request.session`, welche dich mit deiner Unikennung und deinem Passwort auf Ilias einloggt. Die Funktion gibt ein entsprechendes Sessionobjekt zurück, mit welchem man dann Zugriff auf Ilias hat.**"
   ]
  },
  {
   "cell_type": "code",
   "execution_count": null,
   "metadata": {},
   "outputs": [],
   "source": [
    "def ILIAS_login(username: str, password: str) -> requests.session:\n",
    "    # TO DO ...\n",
    "    pass"
   ]
  },
  {
   "cell_type": "markdown",
   "metadata": {},
   "source": [
    "**3. Analysiere die Iliashauptseite. Überlege dir, was du nun Innerhalb von ILIAS *scrapen* möchtest und schreibe dir eine entsprechende Funktion 🤓**"
   ]
  },
  {
   "cell_type": "code",
   "execution_count": null,
   "metadata": {},
   "outputs": [],
   "source": [
    "\n",
    "def deine_funktion(sess: requests.session):\n",
    "    # Iliashauptseite\n",
    "    base_url = \"https://ilias.uni-mannheim.de/ilias.php?baseClass=ilPersonalDesktopGUI&cmd=jumpToSelectedItems\"\n",
    "    soup = BeautifulSoup(sess.get(base_url).text, \"lxml\")\n",
    "    # TO DO ...\n",
    "    \n",
    "    # Wichtig, sobald fertig:\n",
    "    sess.close()"
   ]
  }
 ],
 "metadata": {
  "kernelspec": {
   "display_name": "Python 3",
   "language": "python",
   "name": "python3"
  },
  "language_info": {
   "codemirror_mode": {
    "name": "ipython",
    "version": 3
   },
   "file_extension": ".py",
   "mimetype": "text/x-python",
   "name": "python",
   "nbconvert_exporter": "python",
   "pygments_lexer": "ipython3",
   "version": "3.8.10"
  }
 },
 "nbformat": 4,
 "nbformat_minor": 4
}
