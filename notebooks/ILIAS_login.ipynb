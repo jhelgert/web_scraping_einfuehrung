{
 "cells": [
  {
   "cell_type": "code",
   "execution_count": null,
   "metadata": {},
   "outputs": [],
   "source": [
    "import requests\n",
    "from bs4 import BeautifulSoup"
   ]
  },
  {
   "cell_type": "markdown",
   "metadata": {},
   "source": [
    "1. Analysierie in Chromes Entwicklertools den ILIAS-Login über das [CAS](https://cas.uni-mannheim.de/cas/login). Welche Daten werden gesendet für einen Login?\n",
    "2. Implementiere die Methode `login()`, welche dich mit deiner Unikennung und deinem Passwort auf Ilias einloggt und dabei `self._session` verwendet, um eingeloggt zu bleiben.\n",
    "3. Analysiere die Iliashauptseite. Überlege dir, was du nun Innerhalb von ILIAS *scrapen* möchtest und verwende dafür die vorgegebene Methode `deine_funktion()`"
   ]
  },
  {
   "cell_type": "code",
   "execution_count": null,
   "metadata": {},
   "outputs": [],
   "source": [
    "class IliasScraper:\n",
    "    def __init__(self, username: str, password: str):\n",
    "        self.username = username\n",
    "        self.password = password\n",
    "        self.headers = {\n",
    "            'Connection': 'keep-alive',\n",
    "            'User-Agent': (\"Mozilla/5.0 (Macintosh; Intel Mac OS X 10_12_3) \" \n",
    "                          \"AppleWebKit/537.36 (KHTML, like Gecko) \"\n",
    "                          \"Chrome/56.0.2924.87 Safari/537.36\")\n",
    "        }\n",
    "        self._session = None\n",
    "\n",
    "    def __del__(self):\n",
    "        if self._session is not None:\n",
    "            self._session.close()\n",
    "\n",
    "    def login(self):\n",
    "        login_url = \"https://cas.uni-mannheim.de/cas/login\"\n",
    "        # Unser Sessionobjekt, in dem auch alle unsere Cookies gespeichert werden \n",
    "        # und wir \"eingeloggt\" bleiben.\n",
    "        self._session = requests.session()\n",
    "        # TODO: ...\n",
    "    \n",
    "    def deine_funktion(self):\n",
    "        # TODO: ...\n"
   ]
  },
  {
   "cell_type": "code",
   "execution_count": null,
   "metadata": {},
   "outputs": [],
   "source": [
    "\n",
    "s = IliasScraper(\"dein_user\", \"dein_pw\")\n",
    "s.login()\n",
    "s.deine_funktion()"
   ]
  }
 ],
 "metadata": {
  "kernelspec": {
   "display_name": "Python 3",
   "language": "python",
   "name": "python3"
  },
  "language_info": {
   "codemirror_mode": {
    "name": "ipython",
    "version": 3
   },
   "file_extension": ".py",
   "mimetype": "text/x-python",
   "name": "python",
   "nbconvert_exporter": "python",
   "pygments_lexer": "ipython3",
   "version": "3.8.10"
  }
 },
 "nbformat": 4,
 "nbformat_minor": 4
}
